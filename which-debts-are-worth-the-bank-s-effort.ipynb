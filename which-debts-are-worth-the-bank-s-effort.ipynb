{
 "cells": [
  {
   "cell_type": "code",
   "execution_count": 1,
   "id": "c173e649",
   "metadata": {
    "execution": {
     "iopub.execute_input": "2022-03-26T19:21:25.367188Z",
     "iopub.status.busy": "2022-03-26T19:21:25.366506Z",
     "iopub.status.idle": "2022-03-26T19:21:26.950510Z",
     "shell.execute_reply": "2022-03-26T19:21:26.951067Z",
     "shell.execute_reply.started": "2022-03-26T19:20:37.250171Z"
    },
    "papermill": {
     "duration": 1.62039,
     "end_time": "2022-03-26T19:21:26.951384",
     "exception": false,
     "start_time": "2022-03-26T19:21:25.330994",
     "status": "completed"
    },
    "tags": []
   },
   "outputs": [],
   "source": [
    "# Import modules\n",
    "import pandas as pd\n",
    "import numpy as np\n",
    "from matplotlib import pyplot as plt\n",
    "from scipy import stats\n",
    "import statsmodels.api as sm"
   ]
  },
  {
   "cell_type": "code",
   "execution_count": 2,
   "id": "cf65d535",
   "metadata": {
    "execution": {
     "iopub.execute_input": "2022-03-26T19:21:27.007886Z",
     "iopub.status.busy": "2022-03-26T19:21:27.007065Z",
     "iopub.status.idle": "2022-03-26T19:21:27.026403Z",
     "shell.execute_reply": "2022-03-26T19:21:27.025787Z",
     "shell.execute_reply.started": "2022-03-26T19:20:39.172200Z"
    },
    "papermill": {
     "duration": 0.049633,
     "end_time": "2022-03-26T19:21:27.026550",
     "exception": false,
     "start_time": "2022-03-26T19:21:26.976917",
     "status": "completed"
    },
    "tags": []
   },
   "outputs": [],
   "source": [
    "# Read in dataset\n",
    "df = pd.read_csv(\"../input/bank-debt-data/bank_data.csv\")"
   ]
  },
  {
   "cell_type": "code",
   "execution_count": 3,
   "id": "273abd88",
   "metadata": {
    "execution": {
     "iopub.execute_input": "2022-03-26T19:21:27.085671Z",
     "iopub.status.busy": "2022-03-26T19:21:27.084633Z",
     "iopub.status.idle": "2022-03-26T19:21:27.098981Z",
     "shell.execute_reply": "2022-03-26T19:21:27.099503Z",
     "shell.execute_reply.started": "2022-03-26T19:20:39.197184Z"
    },
    "papermill": {
     "duration": 0.047755,
     "end_time": "2022-03-26T19:21:27.099670",
     "exception": false,
     "start_time": "2022-03-26T19:21:27.051915",
     "status": "completed"
    },
    "tags": []
   },
   "outputs": [
    {
     "data": {
      "text/html": [
       "<div>\n",
       "<style scoped>\n",
       "    .dataframe tbody tr th:only-of-type {\n",
       "        vertical-align: middle;\n",
       "    }\n",
       "\n",
       "    .dataframe tbody tr th {\n",
       "        vertical-align: top;\n",
       "    }\n",
       "\n",
       "    .dataframe thead th {\n",
       "        text-align: right;\n",
       "    }\n",
       "</style>\n",
       "<table border=\"1\" class=\"dataframe\">\n",
       "  <thead>\n",
       "    <tr style=\"text-align: right;\">\n",
       "      <th></th>\n",
       "      <th>id</th>\n",
       "      <th>expected_recovery_amount</th>\n",
       "      <th>actual_recovery_amount</th>\n",
       "      <th>recovery_strategy</th>\n",
       "      <th>age</th>\n",
       "      <th>sex</th>\n",
       "    </tr>\n",
       "  </thead>\n",
       "  <tbody>\n",
       "    <tr>\n",
       "      <th>0</th>\n",
       "      <td>2030</td>\n",
       "      <td>194</td>\n",
       "      <td>263.540</td>\n",
       "      <td>Level 0 Recovery</td>\n",
       "      <td>19</td>\n",
       "      <td>Male</td>\n",
       "    </tr>\n",
       "    <tr>\n",
       "      <th>1</th>\n",
       "      <td>1150</td>\n",
       "      <td>486</td>\n",
       "      <td>416.090</td>\n",
       "      <td>Level 0 Recovery</td>\n",
       "      <td>25</td>\n",
       "      <td>Female</td>\n",
       "    </tr>\n",
       "    <tr>\n",
       "      <th>2</th>\n",
       "      <td>380</td>\n",
       "      <td>527</td>\n",
       "      <td>429.350</td>\n",
       "      <td>Level 0 Recovery</td>\n",
       "      <td>27</td>\n",
       "      <td>Male</td>\n",
       "    </tr>\n",
       "    <tr>\n",
       "      <th>3</th>\n",
       "      <td>1838</td>\n",
       "      <td>536</td>\n",
       "      <td>296.990</td>\n",
       "      <td>Level 0 Recovery</td>\n",
       "      <td>25</td>\n",
       "      <td>Male</td>\n",
       "    </tr>\n",
       "    <tr>\n",
       "      <th>4</th>\n",
       "      <td>1995</td>\n",
       "      <td>541</td>\n",
       "      <td>346.385</td>\n",
       "      <td>Level 0 Recovery</td>\n",
       "      <td>34</td>\n",
       "      <td>Male</td>\n",
       "    </tr>\n",
       "  </tbody>\n",
       "</table>\n",
       "</div>"
      ],
      "text/plain": [
       "     id  expected_recovery_amount  actual_recovery_amount recovery_strategy  \\\n",
       "0  2030                       194                 263.540  Level 0 Recovery   \n",
       "1  1150                       486                 416.090  Level 0 Recovery   \n",
       "2   380                       527                 429.350  Level 0 Recovery   \n",
       "3  1838                       536                 296.990  Level 0 Recovery   \n",
       "4  1995                       541                 346.385  Level 0 Recovery   \n",
       "\n",
       "   age     sex  \n",
       "0   19    Male  \n",
       "1   25  Female  \n",
       "2   27    Male  \n",
       "3   25    Male  \n",
       "4   34    Male  "
      ]
     },
     "execution_count": 3,
     "metadata": {},
     "output_type": "execute_result"
    }
   ],
   "source": [
    "# Print the first few rows of the DataFrame\n",
    "df.head()"
   ]
  },
  {
   "cell_type": "code",
   "execution_count": 4,
   "id": "e74cee9f",
   "metadata": {
    "execution": {
     "iopub.execute_input": "2022-03-26T19:21:27.155469Z",
     "iopub.status.busy": "2022-03-26T19:21:27.154788Z",
     "iopub.status.idle": "2022-03-26T19:21:27.391105Z",
     "shell.execute_reply": "2022-03-26T19:21:27.391654Z",
     "shell.execute_reply.started": "2022-03-26T19:20:39.220733Z"
    },
    "papermill": {
     "duration": 0.265918,
     "end_time": "2022-03-26T19:21:27.391828",
     "exception": false,
     "start_time": "2022-03-26T19:21:27.125910",
     "status": "completed"
    },
    "tags": []
   },
   "outputs": [
    {
     "data": {
      "image/png": "[encoded data removed]",
      "text/plain": [
       "<Figure size 432x288 with 1 Axes>"
      ]
     },
     "metadata": {
      "needs_background": "light"
     },
     "output_type": "display_data"
    }
   ],
   "source": [
    "# Scatter plot of Age vs. Expected Recovery Amount\n",
    "plt.scatter(x=df['expected_recovery_amount'], y=df['age'], c=\"g\", s=2)\n",
    "plt.xlim(0, 2000)\n",
    "plt.ylim(0, 60)\n",
    "plt.xlabel(\"Expected Recovery Amount\")\n",
    "plt.ylabel(\"Age\")\n",
    "plt.show()"
   ]
  },
  {
   "cell_type": "code",
   "execution_count": 5,
   "id": "9f384f46",
   "metadata": {
    "execution": {
     "iopub.execute_input": "2022-03-26T19:21:27.461560Z",
     "iopub.status.busy": "2022-03-26T19:21:27.451672Z",
     "iopub.status.idle": "2022-03-26T19:21:27.474671Z",
     "shell.execute_reply": "2022-03-26T19:21:27.475281Z",
     "shell.execute_reply.started": "2022-03-26T19:20:39.476642Z"
    },
    "papermill": {
     "duration": 0.056924,
     "end_time": "2022-03-26T19:21:27.475457",
     "exception": false,
     "start_time": "2022-03-26T19:21:27.418533",
     "status": "completed"
    },
    "tags": []
   },
   "outputs": [
    {
     "data": {
      "text/plain": [
       "       recovery_strategy\n",
       "count  Level 0 Recovery     89.000000\n",
       "       Level 1 Recovery     94.000000\n",
       "mean   Level 0 Recovery     27.224719\n",
       "       Level 1 Recovery     28.755319\n",
       "std    Level 0 Recovery      6.399135\n",
       "       Level 1 Recovery      5.859807\n",
       "min    Level 0 Recovery     18.000000\n",
       "       Level 1 Recovery     18.000000\n",
       "25%    Level 0 Recovery     23.000000\n",
       "       Level 1 Recovery     24.000000\n",
       "50%    Level 0 Recovery     26.000000\n",
       "       Level 1 Recovery     29.000000\n",
       "75%    Level 0 Recovery     31.000000\n",
       "       Level 1 Recovery     33.000000\n",
       "max    Level 0 Recovery     56.000000\n",
       "       Level 1 Recovery     43.000000\n",
       "dtype: float64"
      ]
     },
     "execution_count": 5,
     "metadata": {},
     "output_type": "execute_result"
    }
   ],
   "source": [
    "# Compute average age just below and above the threshold\n",
    "era_900_1100 = df.loc[(df['expected_recovery_amount']<1100) & \n",
    "                      (df['expected_recovery_amount']>=900)]\n",
    "by_recovery_strategy = era_900_1100.groupby(['recovery_strategy'])\n",
    "by_recovery_strategy['age'].describe().unstack()"
   ]
  },
  {
   "cell_type": "code",
   "execution_count": 6,
   "id": "6d65ea3b",
   "metadata": {
    "execution": {
     "iopub.execute_input": "2022-03-26T19:21:27.533676Z",
     "iopub.status.busy": "2022-03-26T19:21:27.532869Z",
     "iopub.status.idle": "2022-03-26T19:21:27.545498Z",
     "shell.execute_reply": "2022-03-26T19:21:27.545965Z",
     "shell.execute_reply.started": "2022-03-26T19:20:39.509152Z"
    },
    "papermill": {
     "duration": 0.043594,
     "end_time": "2022-03-26T19:21:27.546150",
     "exception": false,
     "start_time": "2022-03-26T19:21:27.502556",
     "status": "completed"
    },
    "tags": []
   },
   "outputs": [
    {
     "data": {
      "text/plain": [
       "KruskalResult(statistic=3.4572342749517513, pvalue=0.06297556896097407)"
      ]
     },
     "execution_count": 6,
     "metadata": {},
     "output_type": "execute_result"
    }
   ],
   "source": [
    "# Perform Kruskal-Wallis test \n",
    "Level_0_age = era_900_1100.loc[df['recovery_strategy']==\"Level 0 Recovery\"]['age']\n",
    "Level_1_age = era_900_1100.loc[df['recovery_strategy']==\"Level 1 Recovery\"]['age']\n",
    "stats.kruskal(Level_0_age, Level_1_age)"
   ]
  },
  {
   "cell_type": "code",
   "execution_count": 7,
   "id": "f4612ff3",
   "metadata": {
    "execution": {
     "iopub.execute_input": "2022-03-26T19:21:27.603896Z",
     "iopub.status.busy": "2022-03-26T19:21:27.603247Z",
     "iopub.status.idle": "2022-03-26T19:21:27.627917Z",
     "shell.execute_reply": "2022-03-26T19:21:27.628429Z",
     "shell.execute_reply.started": "2022-03-26T19:20:39.523481Z"
    },
    "papermill": {
     "duration": 0.055249,
     "end_time": "2022-03-26T19:21:27.628594",
     "exception": false,
     "start_time": "2022-03-26T19:21:27.573345",
     "status": "completed"
    },
    "tags": []
   },
   "outputs": [
    {
     "name": "stdout",
     "output_type": "stream",
     "text": [
      "sex                Female  Male\n",
      "recovery_strategy              \n",
      "Level 0 Recovery       32    57\n",
      "Level 1 Recovery       39    55\n"
     ]
    }
   ],
   "source": [
    "# Number of customers in each category\n",
    "crosstab = pd.crosstab(df.loc[(df['expected_recovery_amount']<1100) & \n",
    "                              (df['expected_recovery_amount']>=900)]['recovery_strategy'], \n",
    "                               df['sex'])\n",
    "print(crosstab)"
   ]
  },
  {
   "cell_type": "code",
   "execution_count": 8,
   "id": "f2a1644a",
   "metadata": {
    "execution": {
     "iopub.execute_input": "2022-03-26T19:21:27.687134Z",
     "iopub.status.busy": "2022-03-26T19:21:27.686417Z",
     "iopub.status.idle": "2022-03-26T19:21:27.691727Z",
     "shell.execute_reply": "2022-03-26T19:21:27.692324Z",
     "shell.execute_reply.started": "2022-03-26T19:20:39.555613Z"
    },
    "papermill": {
     "duration": 0.036294,
     "end_time": "2022-03-26T19:21:27.692487",
     "exception": false,
     "start_time": "2022-03-26T19:21:27.656193",
     "status": "completed"
    },
    "tags": []
   },
   "outputs": [
    {
     "data": {
      "text/plain": [
       "0.5377947810444592"
      ]
     },
     "execution_count": 8,
     "metadata": {},
     "output_type": "execute_result"
    }
   ],
   "source": [
    "# Chi-square test\n",
    "chi2_stat, p_val, dof, ex = stats.chi2_contingency(crosstab)\n",
    "\n",
    "p_val"
   ]
  },
  {
   "cell_type": "code",
   "execution_count": 9,
   "id": "a3e8cd38",
   "metadata": {
    "execution": {
     "iopub.execute_input": "2022-03-26T19:21:27.753696Z",
     "iopub.status.busy": "2022-03-26T19:21:27.753099Z",
     "iopub.status.idle": "2022-03-26T19:21:27.962714Z",
     "shell.execute_reply": "2022-03-26T19:21:27.962174Z",
     "shell.execute_reply.started": "2022-03-26T19:20:39.564063Z"
    },
    "papermill": {
     "duration": 0.242082,
     "end_time": "2022-03-26T19:21:27.962862",
     "exception": false,
     "start_time": "2022-03-26T19:21:27.720780",
     "status": "completed"
    },
    "tags": []
   },
   "outputs": [
    {
     "data": {
      "image/png": "[encoded data removed]",
      "text/plain": [
       "<Figure size 432x288 with 1 Axes>"
      ]
     },
     "metadata": {
      "needs_background": "light"
     },
     "output_type": "display_data"
    }
   ],
   "source": [
    "# Scatter plot of Actual Recovery Amount vs. Expected Recovery Amount \n",
    "plt.scatter(x=df['expected_recovery_amount'], y=df['actual_recovery_amount'], c=\"g\", s=2)\n",
    "plt.xlim(900, 1100)\n",
    "plt.ylim(0, 2000)\n",
    "plt.xlabel(\"Expected Recovery Amount\")\n",
    "plt.ylabel(\"Actual Recovery Amount\")\n",
    "plt.show()"
   ]
  },
  {
   "cell_type": "code",
   "execution_count": 10,
   "id": "61dbc245",
   "metadata": {
    "execution": {
     "iopub.execute_input": "2022-03-26T19:21:28.025972Z",
     "iopub.status.busy": "2022-03-26T19:21:28.025322Z",
     "iopub.status.idle": "2022-03-26T19:21:28.037546Z",
     "shell.execute_reply": "2022-03-26T19:21:28.038045Z",
     "shell.execute_reply.started": "2022-03-26T19:20:39.725392Z"
    },
    "papermill": {
     "duration": 0.045548,
     "end_time": "2022-03-26T19:21:28.038255",
     "exception": false,
     "start_time": "2022-03-26T19:21:27.992707",
     "status": "completed"
    },
    "tags": []
   },
   "outputs": [
    {
     "data": {
      "text/plain": [
       "       recovery_strategy\n",
       "count  Level 0 Recovery       89.000000\n",
       "       Level 1 Recovery       94.000000\n",
       "mean   Level 0 Recovery      623.017022\n",
       "       Level 1 Recovery      955.825551\n",
       "std    Level 0 Recovery      211.620859\n",
       "       Level 1 Recovery      293.732434\n",
       "min    Level 0 Recovery      282.855000\n",
       "       Level 1 Recovery      433.199166\n",
       "25%    Level 0 Recovery      491.425000\n",
       "       Level 1 Recovery      777.705154\n",
       "50%    Level 0 Recovery      575.435000\n",
       "       Level 1 Recovery      907.271525\n",
       "75%    Level 0 Recovery      762.995000\n",
       "       Level 1 Recovery     1060.334387\n",
       "max    Level 0 Recovery     1225.660000\n",
       "       Level 1 Recovery     2053.290126\n",
       "dtype: float64"
      ]
     },
     "execution_count": 10,
     "metadata": {},
     "output_type": "execute_result"
    }
   ],
   "source": [
    "# Compute average actual recovery amount just below and above the threshold\n",
    "by_recovery_strategy['actual_recovery_amount'].describe().unstack()"
   ]
  },
  {
   "cell_type": "code",
   "execution_count": 11,
   "id": "eb20d6fd",
   "metadata": {
    "execution": {
     "iopub.execute_input": "2022-03-26T19:21:28.100926Z",
     "iopub.status.busy": "2022-03-26T19:21:28.100292Z",
     "iopub.status.idle": "2022-03-26T19:21:28.109162Z",
     "shell.execute_reply": "2022-03-26T19:21:28.109640Z",
     "shell.execute_reply.started": "2022-03-26T19:20:39.744346Z"
    },
    "papermill": {
     "duration": 0.041943,
     "end_time": "2022-03-26T19:21:28.109807",
     "exception": false,
     "start_time": "2022-03-26T19:21:28.067864",
     "status": "completed"
    },
    "tags": []
   },
   "outputs": [
    {
     "name": "stdout",
     "output_type": "stream",
     "text": [
      "KruskalResult(statistic=65.37966302528878, pvalue=6.177308752803109e-16)\n"
     ]
    }
   ],
   "source": [
    "# Perform Kruskal-Wallis test\n",
    "Level_0_actual = era_900_1100.loc[df['recovery_strategy']=='Level 0 Recovery']['actual_recovery_amount']\n",
    "Level_1_actual = era_900_1100.loc[df['recovery_strategy']=='Level 1 Recovery']['actual_recovery_amount']\n",
    "print(stats.kruskal(Level_0_actual, Level_1_actual))"
   ]
  },
  {
   "cell_type": "code",
   "execution_count": 12,
   "id": "3f9de20f",
   "metadata": {
    "execution": {
     "iopub.execute_input": "2022-03-26T19:21:28.173522Z",
     "iopub.status.busy": "2022-03-26T19:21:28.172840Z",
     "iopub.status.idle": "2022-03-26T19:21:28.184604Z",
     "shell.execute_reply": "2022-03-26T19:21:28.185101Z",
     "shell.execute_reply.started": "2022-03-26T19:20:39.758501Z"
    },
    "papermill": {
     "duration": 0.045479,
     "end_time": "2022-03-26T19:21:28.185268",
     "exception": false,
     "start_time": "2022-03-26T19:21:28.139789",
     "status": "completed"
    },
    "tags": []
   },
   "outputs": [
    {
     "data": {
      "text/plain": [
       "KruskalResult(statistic=30.246000000000038, pvalue=3.80575314300276e-08)"
      ]
     },
     "execution_count": 12,
     "metadata": {},
     "output_type": "execute_result"
    }
   ],
   "source": [
    "# Repeat for a smaller range of $950 to $1050\n",
    "era_950_1050 = df.loc[(df['expected_recovery_amount']<1050) & \n",
    "                      (df['expected_recovery_amount']>=950)]\n",
    "Level_0_actual = era_950_1050.loc[df['recovery_strategy']=='Level 0 Recovery']['actual_recovery_amount']\n",
    "Level_1_actual = era_950_1050.loc[df['recovery_strategy']=='Level 1 Recovery']['actual_recovery_amount']\n",
    "stats.kruskal(Level_0_actual, Level_1_actual)"
   ]
  },
  {
   "cell_type": "code",
   "execution_count": 13,
   "id": "b747e5c8",
   "metadata": {
    "execution": {
     "iopub.execute_input": "2022-03-26T19:21:28.253293Z",
     "iopub.status.busy": "2022-03-26T19:21:28.252589Z",
     "iopub.status.idle": "2022-03-26T19:21:28.255270Z",
     "shell.execute_reply": "2022-03-26T19:21:28.255712Z",
     "shell.execute_reply.started": "2022-03-26T19:20:39.782623Z"
    },
    "papermill": {
     "duration": 0.039994,
     "end_time": "2022-03-26T19:21:28.255887",
     "exception": false,
     "start_time": "2022-03-26T19:21:28.215893",
     "status": "completed"
    },
    "tags": []
   },
   "outputs": [],
   "source": [
    "# Define X and y\n",
    "X = era_900_1100['expected_recovery_amount']\n",
    "y = era_900_1100['actual_recovery_amount']\n",
    "X = sm.add_constant(X)"
   ]
  },
  {
   "cell_type": "code",
   "execution_count": 14,
   "id": "0cace405",
   "metadata": {
    "execution": {
     "iopub.execute_input": "2022-03-26T19:21:28.321401Z",
     "iopub.status.busy": "2022-03-26T19:21:28.320697Z",
     "iopub.status.idle": "2022-03-26T19:21:28.328850Z",
     "shell.execute_reply": "2022-03-26T19:21:28.329366Z",
     "shell.execute_reply.started": "2022-03-26T19:20:39.794652Z"
    },
    "papermill": {
     "duration": 0.042949,
     "end_time": "2022-03-26T19:21:28.329550",
     "exception": false,
     "start_time": "2022-03-26T19:21:28.286601",
     "status": "completed"
    },
    "tags": []
   },
   "outputs": [],
   "source": [
    "# Build linear regression model\n",
    "model = sm.OLS(y, X).fit()\n",
    "predictions = model.predict(X)"
   ]
  },
  {
   "cell_type": "code",
   "execution_count": 15,
   "id": "8a2113f9",
   "metadata": {
    "execution": {
     "iopub.execute_input": "2022-03-26T19:21:28.395270Z",
     "iopub.status.busy": "2022-03-26T19:21:28.393634Z",
     "iopub.status.idle": "2022-03-26T19:21:28.410442Z",
     "shell.execute_reply": "2022-03-26T19:21:28.410920Z",
     "shell.execute_reply.started": "2022-03-26T19:20:39.809216Z"
    },
    "papermill": {
     "duration": 0.050968,
     "end_time": "2022-03-26T19:21:28.411107",
     "exception": false,
     "start_time": "2022-03-26T19:21:28.360139",
     "status": "completed"
    },
    "tags": []
   },
   "outputs": [
    {
     "data": {
      "text/html": [
       "<table class=\"simpletable\">\n",
       "<caption>OLS Regression Results</caption>\n",
       "<tr>\n",
       "  <th>Dep. Variable:</th>    <td>actual_recovery_amount</td> <th>  R-squared:         </th> <td>   0.261</td>\n",
       "</tr>\n",
       "<tr>\n",
       "  <th>Model:</th>                      <td>OLS</td>          <th>  Adj. R-squared:    </th> <td>   0.256</td>\n",
       "</tr>\n",
       "<tr>\n",
       "  <th>Method:</th>                <td>Least Squares</td>     <th>  F-statistic:       </th> <td>   63.78</td>\n",
       "</tr>\n",
       "<tr>\n",
       "  <th>Date:</th>                <td>Sat, 26 Mar 2022</td>    <th>  Prob (F-statistic):</th> <td>1.56e-13</td>\n",
       "</tr>\n",
       "<tr>\n",
       "  <th>Time:</th>                    <td>19:21:28</td>        <th>  Log-Likelihood:    </th> <td> -1278.9</td>\n",
       "</tr>\n",
       "<tr>\n",
       "  <th>No. Observations:</th>         <td>   183</td>         <th>  AIC:               </th> <td>   2562.</td>\n",
       "</tr>\n",
       "<tr>\n",
       "  <th>Df Residuals:</th>             <td>   181</td>         <th>  BIC:               </th> <td>   2568.</td>\n",
       "</tr>\n",
       "<tr>\n",
       "  <th>Df Model:</th>                 <td>     1</td>         <th>                     </th>     <td> </td>   \n",
       "</tr>\n",
       "<tr>\n",
       "  <th>Covariance Type:</th>         <td>nonrobust</td>       <th>                     </th>     <td> </td>   \n",
       "</tr>\n",
       "</table>\n",
       "<table class=\"simpletable\">\n",
       "<tr>\n",
       "              <td></td>                <th>coef</th>     <th>std err</th>      <th>t</th>      <th>P>|t|</th>  <th>[0.025</th>    <th>0.975]</th>  \n",
       "</tr>\n",
       "<tr>\n",
       "  <th>const</th>                    <td>-1978.7597</td> <td>  347.741</td> <td>   -5.690</td> <td> 0.000</td> <td>-2664.907</td> <td>-1292.612</td>\n",
       "</tr>\n",
       "<tr>\n",
       "  <th>expected_recovery_amount</th> <td>    2.7577</td> <td>    0.345</td> <td>    7.986</td> <td> 0.000</td> <td>    2.076</td> <td>    3.439</td>\n",
       "</tr>\n",
       "</table>\n",
       "<table class=\"simpletable\">\n",
       "<tr>\n",
       "  <th>Omnibus:</th>       <td>64.493</td> <th>  Durbin-Watson:     </th> <td>   1.777</td>\n",
       "</tr>\n",
       "<tr>\n",
       "  <th>Prob(Omnibus):</th> <td> 0.000</td> <th>  Jarque-Bera (JB):  </th> <td> 185.818</td>\n",
       "</tr>\n",
       "<tr>\n",
       "  <th>Skew:</th>          <td> 1.463</td> <th>  Prob(JB):          </th> <td>4.47e-41</td>\n",
       "</tr>\n",
       "<tr>\n",
       "  <th>Kurtosis:</th>      <td> 6.977</td> <th>  Cond. No.          </th> <td>1.80e+04</td>\n",
       "</tr>\n",
       "</table><br/><br/>Notes:<br/>[1] Standard Errors assume that the covariance matrix of the errors is correctly specified.<br/>[2] The condition number is large, 1.8e+04. This might indicate that there are<br/>strong multicollinearity or other numerical problems."
      ],
      "text/plain": [
       "<class 'statsmodels.iolib.summary.Summary'>\n",
       "\"\"\"\n",
       "                              OLS Regression Results                              \n",
       "==================================================================================\n",
       "Dep. Variable:     actual_recovery_amount   R-squared:                       0.261\n",
       "Model:                                OLS   Adj. R-squared:                  0.256\n",
       "Method:                     Least Squares   F-statistic:                     63.78\n",
       "Date:                    Sat, 26 Mar 2022   Prob (F-statistic):           1.56e-13\n",
       "Time:                            19:21:28   Log-Likelihood:                -1278.9\n",
       "No. Observations:                     183   AIC:                             2562.\n",
       "Df Residuals:                         181   BIC:                             2568.\n",
       "Df Model:                               1                                         \n",
       "Covariance Type:                nonrobust                                         \n",
       "============================================================================================\n",
       "                               coef    std err          t      P>|t|      [0.025      0.975]\n",
       "--------------------------------------------------------------------------------------------\n",
       "const                    -1978.7597    347.741     -5.690      0.000   -2664.907   -1292.612\n",
       "expected_recovery_amount     2.7577      0.345      7.986      0.000       2.076       3.439\n",
       "==============================================================================\n",
       "Omnibus:                       64.493   Durbin-Watson:                   1.777\n",
       "Prob(Omnibus):                  0.000   Jarque-Bera (JB):              185.818\n",
       "Skew:                           1.463   Prob(JB):                     4.47e-41\n",
       "Kurtosis:                       6.977   Cond. No.                     1.80e+04\n",
       "==============================================================================\n",
       "\n",
       "Notes:\n",
       "[1] Standard Errors assume that the covariance matrix of the errors is correctly specified.\n",
       "[2] The condition number is large, 1.8e+04. This might indicate that there are\n",
       "strong multicollinearity or other numerical problems.\n",
       "\"\"\""
      ]
     },
     "execution_count": 15,
     "metadata": {},
     "output_type": "execute_result"
    }
   ],
   "source": [
    "# Print out the model summary statistics\n",
    "model.summary()"
   ]
  },
  {
   "cell_type": "code",
   "execution_count": 16,
   "id": "4af35c38",
   "metadata": {
    "execution": {
     "iopub.execute_input": "2022-03-26T19:21:28.483310Z",
     "iopub.status.busy": "2022-03-26T19:21:28.482653Z",
     "iopub.status.idle": "2022-03-26T19:21:28.484945Z",
     "shell.execute_reply": "2022-03-26T19:21:28.485462Z",
     "shell.execute_reply.started": "2022-03-26T19:20:39.830467Z"
    },
    "papermill": {
     "duration": 0.043083,
     "end_time": "2022-03-26T19:21:28.485631",
     "exception": false,
     "start_time": "2022-03-26T19:21:28.442548",
     "status": "completed"
    },
    "tags": []
   },
   "outputs": [],
   "source": [
    "# Create indicator (0 or 1) for expected recovery amount >= $1000\n",
    "df['indicator_1000'] = np.where(df['expected_recovery_amount']<1000, 0, 1)\n",
    "era_900_1100 = df.loc[(df['expected_recovery_amount']<1100) & \n",
    "                      (df['expected_recovery_amount']>=900)]\n"
   ]
  },
  {
   "cell_type": "markdown",
   "id": "724debbc",
   "metadata": {
    "papermill": {
     "duration": 0.030854,
     "end_time": "2022-03-26T19:21:28.548166",
     "exception": false,
     "start_time": "2022-03-26T19:21:28.517312",
     "status": "completed"
    },
    "tags": []
   },
   "source": [
    "**Notes:**\n",
    "\n",
    "[1] Standard Errors assume that the covariance matrix of the errors is correctly specified.\n",
    "\n",
    "[2] The condition number is large, 1.8e+04. This might indicate that there are\n",
    "strong multicollinearity or other numerical problems."
   ]
  },
  {
   "cell_type": "code",
   "execution_count": 17,
   "id": "b0f3e019",
   "metadata": {
    "execution": {
     "iopub.execute_input": "2022-03-26T19:21:28.615105Z",
     "iopub.status.busy": "2022-03-26T19:21:28.614484Z",
     "iopub.status.idle": "2022-03-26T19:21:28.620761Z",
     "shell.execute_reply": "2022-03-26T19:21:28.621305Z",
     "shell.execute_reply.started": "2022-03-26T19:20:39.839763Z"
    },
    "papermill": {
     "duration": 0.042106,
     "end_time": "2022-03-26T19:21:28.621474",
     "exception": false,
     "start_time": "2022-03-26T19:21:28.579368",
     "status": "completed"
    },
    "tags": []
   },
   "outputs": [],
   "source": [
    "# Define X and y\n",
    "X = era_900_1100['expected_recovery_amount']\n",
    "y = era_900_1100['actual_recovery_amount']\n",
    "X = sm.add_constant(X)"
   ]
  },
  {
   "cell_type": "code",
   "execution_count": 18,
   "id": "32ea6c93",
   "metadata": {
    "execution": {
     "iopub.execute_input": "2022-03-26T19:21:28.690148Z",
     "iopub.status.busy": "2022-03-26T19:21:28.689527Z",
     "iopub.status.idle": "2022-03-26T19:21:28.695679Z",
     "shell.execute_reply": "2022-03-26T19:21:28.695126Z",
     "shell.execute_reply.started": "2022-03-26T19:20:39.851947Z"
    },
    "papermill": {
     "duration": 0.042311,
     "end_time": "2022-03-26T19:21:28.695832",
     "exception": false,
     "start_time": "2022-03-26T19:21:28.653521",
     "status": "completed"
    },
    "tags": []
   },
   "outputs": [],
   "source": [
    "# Build linear regression model\n",
    "model = sm.OLS(y,X).fit()"
   ]
  },
  {
   "cell_type": "code",
   "execution_count": 19,
   "id": "f5e937aa",
   "metadata": {
    "execution": {
     "iopub.execute_input": "2022-03-26T19:21:28.766768Z",
     "iopub.status.busy": "2022-03-26T19:21:28.765615Z",
     "iopub.status.idle": "2022-03-26T19:21:28.779986Z",
     "shell.execute_reply": "2022-03-26T19:21:28.780537Z",
     "shell.execute_reply.started": "2022-03-26T19:20:39.862057Z"
    },
    "papermill": {
     "duration": 0.052887,
     "end_time": "2022-03-26T19:21:28.780710",
     "exception": false,
     "start_time": "2022-03-26T19:21:28.727823",
     "status": "completed"
    },
    "tags": []
   },
   "outputs": [
    {
     "data": {
      "text/html": [
       "<table class=\"simpletable\">\n",
       "<caption>OLS Regression Results</caption>\n",
       "<tr>\n",
       "  <th>Dep. Variable:</th>    <td>actual_recovery_amount</td> <th>  R-squared:         </th> <td>   0.261</td>\n",
       "</tr>\n",
       "<tr>\n",
       "  <th>Model:</th>                      <td>OLS</td>          <th>  Adj. R-squared:    </th> <td>   0.256</td>\n",
       "</tr>\n",
       "<tr>\n",
       "  <th>Method:</th>                <td>Least Squares</td>     <th>  F-statistic:       </th> <td>   63.78</td>\n",
       "</tr>\n",
       "<tr>\n",
       "  <th>Date:</th>                <td>Sat, 26 Mar 2022</td>    <th>  Prob (F-statistic):</th> <td>1.56e-13</td>\n",
       "</tr>\n",
       "<tr>\n",
       "  <th>Time:</th>                    <td>19:21:28</td>        <th>  Log-Likelihood:    </th> <td> -1278.9</td>\n",
       "</tr>\n",
       "<tr>\n",
       "  <th>No. Observations:</th>         <td>   183</td>         <th>  AIC:               </th> <td>   2562.</td>\n",
       "</tr>\n",
       "<tr>\n",
       "  <th>Df Residuals:</th>             <td>   181</td>         <th>  BIC:               </th> <td>   2568.</td>\n",
       "</tr>\n",
       "<tr>\n",
       "  <th>Df Model:</th>                 <td>     1</td>         <th>                     </th>     <td> </td>   \n",
       "</tr>\n",
       "<tr>\n",
       "  <th>Covariance Type:</th>         <td>nonrobust</td>       <th>                     </th>     <td> </td>   \n",
       "</tr>\n",
       "</table>\n",
       "<table class=\"simpletable\">\n",
       "<tr>\n",
       "              <td></td>                <th>coef</th>     <th>std err</th>      <th>t</th>      <th>P>|t|</th>  <th>[0.025</th>    <th>0.975]</th>  \n",
       "</tr>\n",
       "<tr>\n",
       "  <th>const</th>                    <td>-1978.7597</td> <td>  347.741</td> <td>   -5.690</td> <td> 0.000</td> <td>-2664.907</td> <td>-1292.612</td>\n",
       "</tr>\n",
       "<tr>\n",
       "  <th>expected_recovery_amount</th> <td>    2.7577</td> <td>    0.345</td> <td>    7.986</td> <td> 0.000</td> <td>    2.076</td> <td>    3.439</td>\n",
       "</tr>\n",
       "</table>\n",
       "<table class=\"simpletable\">\n",
       "<tr>\n",
       "  <th>Omnibus:</th>       <td>64.493</td> <th>  Durbin-Watson:     </th> <td>   1.777</td>\n",
       "</tr>\n",
       "<tr>\n",
       "  <th>Prob(Omnibus):</th> <td> 0.000</td> <th>  Jarque-Bera (JB):  </th> <td> 185.818</td>\n",
       "</tr>\n",
       "<tr>\n",
       "  <th>Skew:</th>          <td> 1.463</td> <th>  Prob(JB):          </th> <td>4.47e-41</td>\n",
       "</tr>\n",
       "<tr>\n",
       "  <th>Kurtosis:</th>      <td> 6.977</td> <th>  Cond. No.          </th> <td>1.80e+04</td>\n",
       "</tr>\n",
       "</table><br/><br/>Notes:<br/>[1] Standard Errors assume that the covariance matrix of the errors is correctly specified.<br/>[2] The condition number is large, 1.8e+04. This might indicate that there are<br/>strong multicollinearity or other numerical problems."
      ],
      "text/plain": [
       "<class 'statsmodels.iolib.summary.Summary'>\n",
       "\"\"\"\n",
       "                              OLS Regression Results                              \n",
       "==================================================================================\n",
       "Dep. Variable:     actual_recovery_amount   R-squared:                       0.261\n",
       "Model:                                OLS   Adj. R-squared:                  0.256\n",
       "Method:                     Least Squares   F-statistic:                     63.78\n",
       "Date:                    Sat, 26 Mar 2022   Prob (F-statistic):           1.56e-13\n",
       "Time:                            19:21:28   Log-Likelihood:                -1278.9\n",
       "No. Observations:                     183   AIC:                             2562.\n",
       "Df Residuals:                         181   BIC:                             2568.\n",
       "Df Model:                               1                                         \n",
       "Covariance Type:                nonrobust                                         \n",
       "============================================================================================\n",
       "                               coef    std err          t      P>|t|      [0.025      0.975]\n",
       "--------------------------------------------------------------------------------------------\n",
       "const                    -1978.7597    347.741     -5.690      0.000   -2664.907   -1292.612\n",
       "expected_recovery_amount     2.7577      0.345      7.986      0.000       2.076       3.439\n",
       "==============================================================================\n",
       "Omnibus:                       64.493   Durbin-Watson:                   1.777\n",
       "Prob(Omnibus):                  0.000   Jarque-Bera (JB):              185.818\n",
       "Skew:                           1.463   Prob(JB):                     4.47e-41\n",
       "Kurtosis:                       6.977   Cond. No.                     1.80e+04\n",
       "==============================================================================\n",
       "\n",
       "Notes:\n",
       "[1] Standard Errors assume that the covariance matrix of the errors is correctly specified.\n",
       "[2] The condition number is large, 1.8e+04. This might indicate that there are\n",
       "strong multicollinearity or other numerical problems.\n",
       "\"\"\""
      ]
     },
     "execution_count": 19,
     "metadata": {},
     "output_type": "execute_result"
    }
   ],
   "source": [
    "# Print the model summary\n",
    "model.summary()"
   ]
  },
  {
   "cell_type": "code",
   "execution_count": 20,
   "id": "b8fd4787",
   "metadata": {
    "execution": {
     "iopub.execute_input": "2022-03-26T19:21:28.850535Z",
     "iopub.status.busy": "2022-03-26T19:21:28.849535Z",
     "iopub.status.idle": "2022-03-26T19:21:28.854788Z",
     "shell.execute_reply": "2022-03-26T19:21:28.855358Z",
     "shell.execute_reply.started": "2022-03-26T19:20:39.885142Z"
    },
    "papermill": {
     "duration": 0.042381,
     "end_time": "2022-03-26T19:21:28.855528",
     "exception": false,
     "start_time": "2022-03-26T19:21:28.813147",
     "status": "completed"
    },
    "tags": []
   },
   "outputs": [],
   "source": [
    "# Redefine era_950_1050 so the indicator variable is included\n",
    "era_950_1050 = df.loc[(df['expected_recovery_amount']<1050) & \n",
    "                      (df['expected_recovery_amount']>=950)]"
   ]
  },
  {
   "cell_type": "code",
   "execution_count": 21,
   "id": "9b1d8ba7",
   "metadata": {
    "execution": {
     "iopub.execute_input": "2022-03-26T19:21:28.922638Z",
     "iopub.status.busy": "2022-03-26T19:21:28.921653Z",
     "iopub.status.idle": "2022-03-26T19:21:28.928695Z",
     "shell.execute_reply": "2022-03-26T19:21:28.929298Z",
     "shell.execute_reply.started": "2022-03-26T19:20:39.891626Z"
    },
    "papermill": {
     "duration": 0.042451,
     "end_time": "2022-03-26T19:21:28.929478",
     "exception": false,
     "start_time": "2022-03-26T19:21:28.887027",
     "status": "completed"
    },
    "tags": []
   },
   "outputs": [],
   "source": [
    "# Define X and y \n",
    "X = era_950_1050[['expected_recovery_amount','indicator_1000']]\n",
    "y = era_950_1050['actual_recovery_amount']\n",
    "X = sm.add_constant(X)"
   ]
  },
  {
   "cell_type": "code",
   "execution_count": 22,
   "id": "cbfc72b9",
   "metadata": {
    "execution": {
     "iopub.execute_input": "2022-03-26T19:21:28.996933Z",
     "iopub.status.busy": "2022-03-26T19:21:28.995924Z",
     "iopub.status.idle": "2022-03-26T19:21:29.000844Z",
     "shell.execute_reply": "2022-03-26T19:21:29.001425Z",
     "shell.execute_reply.started": "2022-03-26T19:20:39.907376Z"
    },
    "papermill": {
     "duration": 0.040598,
     "end_time": "2022-03-26T19:21:29.001599",
     "exception": false,
     "start_time": "2022-03-26T19:21:28.961001",
     "status": "completed"
    },
    "tags": []
   },
   "outputs": [],
   "source": [
    "# Build linear regression model\n",
    "model = sm.OLS(y,X).fit()"
   ]
  },
  {
   "cell_type": "code",
   "execution_count": 23,
   "id": "fff307e7",
   "metadata": {
    "execution": {
     "iopub.execute_input": "2022-03-26T19:21:29.071145Z",
     "iopub.status.busy": "2022-03-26T19:21:29.070170Z",
     "iopub.status.idle": "2022-03-26T19:21:29.086602Z",
     "shell.execute_reply": "2022-03-26T19:21:29.087054Z",
     "shell.execute_reply.started": "2022-03-26T19:20:39.917716Z"
    },
    "papermill": {
     "duration": 0.053431,
     "end_time": "2022-03-26T19:21:29.087245",
     "exception": false,
     "start_time": "2022-03-26T19:21:29.033814",
     "status": "completed"
    },
    "tags": []
   },
   "outputs": [
    {
     "data": {
      "text/html": [
       "<table class=\"simpletable\">\n",
       "<caption>OLS Regression Results</caption>\n",
       "<tr>\n",
       "  <th>Dep. Variable:</th>    <td>actual_recovery_amount</td> <th>  R-squared:         </th> <td>   0.283</td>\n",
       "</tr>\n",
       "<tr>\n",
       "  <th>Model:</th>                      <td>OLS</td>          <th>  Adj. R-squared:    </th> <td>   0.269</td>\n",
       "</tr>\n",
       "<tr>\n",
       "  <th>Method:</th>                <td>Least Squares</td>     <th>  F-statistic:       </th> <td>   18.99</td>\n",
       "</tr>\n",
       "<tr>\n",
       "  <th>Date:</th>                <td>Sat, 26 Mar 2022</td>    <th>  Prob (F-statistic):</th> <td>1.12e-07</td>\n",
       "</tr>\n",
       "<tr>\n",
       "  <th>Time:</th>                    <td>19:21:29</td>        <th>  Log-Likelihood:    </th> <td> -692.92</td>\n",
       "</tr>\n",
       "<tr>\n",
       "  <th>No. Observations:</th>         <td>    99</td>         <th>  AIC:               </th> <td>   1392.</td>\n",
       "</tr>\n",
       "<tr>\n",
       "  <th>Df Residuals:</th>             <td>    96</td>         <th>  BIC:               </th> <td>   1400.</td>\n",
       "</tr>\n",
       "<tr>\n",
       "  <th>Df Model:</th>                 <td>     2</td>         <th>                     </th>     <td> </td>   \n",
       "</tr>\n",
       "<tr>\n",
       "  <th>Covariance Type:</th>         <td>nonrobust</td>       <th>                     </th>     <td> </td>   \n",
       "</tr>\n",
       "</table>\n",
       "<table class=\"simpletable\">\n",
       "<tr>\n",
       "              <td></td>                <th>coef</th>     <th>std err</th>      <th>t</th>      <th>P>|t|</th>  <th>[0.025</th>    <th>0.975]</th>  \n",
       "</tr>\n",
       "<tr>\n",
       "  <th>const</th>                    <td> -279.5243</td> <td> 1840.707</td> <td>   -0.152</td> <td> 0.880</td> <td>-3933.298</td> <td> 3374.250</td>\n",
       "</tr>\n",
       "<tr>\n",
       "  <th>expected_recovery_amount</th> <td>    0.9189</td> <td>    1.886</td> <td>    0.487</td> <td> 0.627</td> <td>   -2.825</td> <td>    4.663</td>\n",
       "</tr>\n",
       "<tr>\n",
       "  <th>indicator_1000</th>           <td>  286.5337</td> <td>  111.352</td> <td>    2.573</td> <td> 0.012</td> <td>   65.502</td> <td>  507.566</td>\n",
       "</tr>\n",
       "</table>\n",
       "<table class=\"simpletable\">\n",
       "<tr>\n",
       "  <th>Omnibus:</th>       <td>39.302</td> <th>  Durbin-Watson:     </th> <td>   1.955</td>\n",
       "</tr>\n",
       "<tr>\n",
       "  <th>Prob(Omnibus):</th> <td> 0.000</td> <th>  Jarque-Bera (JB):  </th> <td>  82.258</td>\n",
       "</tr>\n",
       "<tr>\n",
       "  <th>Skew:</th>          <td> 1.564</td> <th>  Prob(JB):          </th> <td>1.37e-18</td>\n",
       "</tr>\n",
       "<tr>\n",
       "  <th>Kurtosis:</th>      <td> 6.186</td> <th>  Cond. No.          </th> <td>6.81e+04</td>\n",
       "</tr>\n",
       "</table><br/><br/>Notes:<br/>[1] Standard Errors assume that the covariance matrix of the errors is correctly specified.<br/>[2] The condition number is large, 6.81e+04. This might indicate that there are<br/>strong multicollinearity or other numerical problems."
      ],
      "text/plain": [
       "<class 'statsmodels.iolib.summary.Summary'>\n",
       "\"\"\"\n",
       "                              OLS Regression Results                              \n",
       "==================================================================================\n",
       "Dep. Variable:     actual_recovery_amount   R-squared:                       0.283\n",
       "Model:                                OLS   Adj. R-squared:                  0.269\n",
       "Method:                     Least Squares   F-statistic:                     18.99\n",
       "Date:                    Sat, 26 Mar 2022   Prob (F-statistic):           1.12e-07\n",
       "Time:                            19:21:29   Log-Likelihood:                -692.92\n",
       "No. Observations:                      99   AIC:                             1392.\n",
       "Df Residuals:                          96   BIC:                             1400.\n",
       "Df Model:                               2                                         \n",
       "Covariance Type:                nonrobust                                         \n",
       "============================================================================================\n",
       "                               coef    std err          t      P>|t|      [0.025      0.975]\n",
       "--------------------------------------------------------------------------------------------\n",
       "const                     -279.5243   1840.707     -0.152      0.880   -3933.298    3374.250\n",
       "expected_recovery_amount     0.9189      1.886      0.487      0.627      -2.825       4.663\n",
       "indicator_1000             286.5337    111.352      2.573      0.012      65.502     507.566\n",
       "==============================================================================\n",
       "Omnibus:                       39.302   Durbin-Watson:                   1.955\n",
       "Prob(Omnibus):                  0.000   Jarque-Bera (JB):               82.258\n",
       "Skew:                           1.564   Prob(JB):                     1.37e-18\n",
       "Kurtosis:                       6.186   Cond. No.                     6.81e+04\n",
       "==============================================================================\n",
       "\n",
       "Notes:\n",
       "[1] Standard Errors assume that the covariance matrix of the errors is correctly specified.\n",
       "[2] The condition number is large, 6.81e+04. This might indicate that there are\n",
       "strong multicollinearity or other numerical problems.\n",
       "\"\"\""
      ]
     },
     "execution_count": 23,
     "metadata": {},
     "output_type": "execute_result"
    }
   ],
   "source": [
    "# Print the model summary\n",
    "model.summary()"
   ]
  },
  {
   "cell_type": "markdown",
   "id": "1fef3fa6",
   "metadata": {
    "papermill": {
     "duration": 0.032605,
     "end_time": "2022-03-26T19:21:29.152180",
     "exception": false,
     "start_time": "2022-03-26T19:21:29.119575",
     "status": "completed"
    },
    "tags": []
   },
   "source": [
    "**Notes:**\n",
    "\n",
    "[1] Standard Errors assume that the covariance matrix of the errors is correctly specified.\n",
    "\n",
    "[2] The condition number is large, 6.81e+04. This might indicate that there are\n",
    "strong multicollinearity or other numerical problems."
   ]
  }
 ],
 "metadata": {
  "kernelspec": {
   "display_name": "Python 3",
   "language": "python",
   "name": "python3"
  },
  "language_info": {
   "codemirror_mode": {
    "name": "ipython",
    "version": 3
   },
   "file_extension": ".py",
   "mimetype": "text/x-python",
   "name": "python",
   "nbconvert_exporter": "python",
   "pygments_lexer": "ipython3",
   "version": "3.7.12"
  },
  "papermill": {
   "default_parameters": {},
   "duration": 13.942882,
   "end_time": "2022-03-26T19:21:29.893590",
   "environment_variables": {},
   "exception": null,
   "input_path": "__notebook__.ipynb",
   "output_path": "__notebook__.ipynb",
   "parameters": {},
   "start_time": "2022-03-26T19:21:15.950708",
   "version": "2.3.3"
  }
 },
 "nbformat": 4,
 "nbformat_minor": 5
}
